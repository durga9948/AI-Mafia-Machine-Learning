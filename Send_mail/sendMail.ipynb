{
 "cells": [
  {
   "cell_type": "code",
   "execution_count": 12,
   "metadata": {},
   "outputs": [],
   "source": [
    "import smtplib\n",
    "import getpass\n",
    "from email.mime.text import MIMEText\n",
    "import pandas as pd"
   ]
  },
  {
   "cell_type": "code",
   "execution_count": 19,
   "metadata": {},
   "outputs": [
    {
     "name": "stdout",
     "output_type": "stream",
     "text": [
      "········\n",
      "0    chunduridurgabhavani@gmail.com\n",
      "1        himasirichunduri@gmail.com\n",
      "2            chunduri7416@gmail.com\n",
      "Name: MailId, dtype: object\n"
     ]
    }
   ],
   "source": [
    "def sending_mail(sender,receiver,password):\n",
    "    server=smtplib.SMTP('smtp.gmail.com',587)\n",
    "    server.starttls()\n",
    "    server.login(sender,password)\n",
    "    text='''\n",
    "    Hey! \n",
    "    \n",
    "    Hope everything is fine and going well :)\n",
    "    \n",
    "    Thanks.\n",
    "    '''\n",
    "    msg=MIMEText(text)\n",
    "    msg['From']=sender\n",
    "    msg['To']='chunduridurgabhavani@gmail.com'\n",
    "    msg['Subject']='Coding Club'\n",
    "    server.sendmail(sender,receiver,msg.as_string())\n",
    "sendFrom='chunduri9948@gmail.com'\n",
    "password=getpass.getpass()\n",
    "receiveTo={'MailId':['chunduridurgabhavani@gmail.com','himasirichunduri@gmail.com','chunduri7416@gmail.com'],'Names':['Durga','Hima','Amar']}\n",
    "df1=pd.DataFrame(receiveTo)\n",
    "df1.to_csv('ParticipantList.csv')\n",
    "df=pd.read_csv('ParticipantList.csv')\n",
    "print(df['MailId'])\n",
    "sending_mail(sendFrom,df['MailId'],password)"
   ]
  },
  {
   "cell_type": "code",
   "execution_count": null,
   "metadata": {},
   "outputs": [],
   "source": []
  }
 ],
 "metadata": {
  "kernelspec": {
   "display_name": "Python 3",
   "language": "python",
   "name": "python3"
  },
  "language_info": {
   "codemirror_mode": {
    "name": "ipython",
    "version": 3
   },
   "file_extension": ".py",
   "mimetype": "text/x-python",
   "name": "python",
   "nbconvert_exporter": "python",
   "pygments_lexer": "ipython3",
   "version": "3.8.3"
  }
 },
 "nbformat": 4,
 "nbformat_minor": 4
}

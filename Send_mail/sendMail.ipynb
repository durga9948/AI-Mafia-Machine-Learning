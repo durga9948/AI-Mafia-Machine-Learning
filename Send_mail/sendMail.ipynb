{
 "cells": [
  {
   "cell_type": "code",
   "execution_count": 1,
   "metadata": {},
   "outputs": [],
   "source": [
    "import smtplib\n",
    "import getpass\n",
    "from email.mime.text import MIMEText"
   ]
  },
  {
   "cell_type": "code",
   "execution_count": 8,
   "metadata": {},
   "outputs": [
    {
     "name": "stdout",
     "output_type": "stream",
     "text": [
      "········\n"
     ]
    }
   ],
   "source": [
    "def sending_mail(sender,receiver,password):\n",
    "    server=smtplib.SMTP('smtp.gmail.com',587)\n",
    "    server.starttls()\n",
    "    server.login(sender,password)\n",
    "    text='''\n",
    "    Hey! \n",
    "    \n",
    "    Hope everything is fine and going well :)\n",
    "    \n",
    "    Thanks.\n",
    "    '''\n",
    "    msg=MIMEText(text)\n",
    "    msg['From']=sender\n",
    "    msg['To']=receiver\n",
    "    msg['Subject']='Coding Club'\n",
    "    server.sendmail(sender,receiver,msg.as_string())\n",
    "sendFrom='chunduri9948@gmail.com'\n",
    "password=getpass.getpass()\n",
    "receiveTo='chunduridurgabhavani@gmail.com'\n",
    "sending_mail(sendFrom,receiveTo,password)"
   ]
  },
  {
   "cell_type": "code",
   "execution_count": null,
   "metadata": {},
   "outputs": [],
   "source": []
  }
 ],
 "metadata": {
  "kernelspec": {
   "display_name": "Python 3",
   "language": "python",
   "name": "python3"
  },
  "language_info": {
   "codemirror_mode": {
    "name": "ipython",
    "version": 3
   },
   "file_extension": ".py",
   "mimetype": "text/x-python",
   "name": "python",
   "nbconvert_exporter": "python",
   "pygments_lexer": "ipython3",
   "version": "3.8.3"
  }
 },
 "nbformat": 4,
 "nbformat_minor": 4
}

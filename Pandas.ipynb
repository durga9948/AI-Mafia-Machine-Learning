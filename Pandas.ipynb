{
 "cells": [
  {
   "cell_type": "code",
   "execution_count": 1,
   "metadata": {},
   "outputs": [],
   "source": [
    "import pandas as pd\n",
    "import numpy as np"
   ]
  },
  {
   "cell_type": "markdown",
   "metadata": {},
   "source": [
    "# 1) Series"
   ]
  },
  {
   "cell_type": "markdown",
   "metadata": {},
   "source": [
    "## Creation of Series Object"
   ]
  },
  {
   "cell_type": "markdown",
   "metadata": {},
   "source": [
    "### Dictionery to Series object"
   ]
  },
  {
   "cell_type": "code",
   "execution_count": 2,
   "metadata": {},
   "outputs": [
    {
     "name": "stdout",
     "output_type": "stream",
     "text": [
      "a    10\n",
      "b    20\n",
      "c    30\n",
      "dtype: int64\n"
     ]
    }
   ],
   "source": [
    "d={'a':10,'b':20,'c':30}\n",
    "a=pd.Series(d) # Capital S 8-)\n",
    "print(a)"
   ]
  },
  {
   "cell_type": "markdown",
   "metadata": {},
   "source": [
    "### list/array/tuple to Series object"
   ]
  },
  {
   "cell_type": "code",
   "execution_count": 3,
   "metadata": {},
   "outputs": [
    {
     "name": "stdout",
     "output_type": "stream",
     "text": [
      "0    10\n",
      "1    20\n",
      "2    30\n",
      "dtype: int64\n",
      "0    10\n",
      "1    20\n",
      "2    30\n",
      "dtype: int32\n",
      "0    10\n",
      "1    20\n",
      "2    30\n",
      "dtype: int64\n"
     ]
    }
   ],
   "source": [
    "l=[10,20,30]\n",
    "b=pd.Series(l)\n",
    "print(b)\n",
    "l=np.array([10,20,30])\n",
    "b=pd.Series(l)\n",
    "print(b)\n",
    "l=(10,20,30)\n",
    "b=pd.Series(l)\n",
    "print(b)"
   ]
  },
  {
   "cell_type": "markdown",
   "metadata": {},
   "source": [
    "### Providing both index and data values"
   ]
  },
  {
   "cell_type": "code",
   "execution_count": 4,
   "metadata": {},
   "outputs": [
    {
     "name": "stdout",
     "output_type": "stream",
     "text": [
      "q    10\n",
      "w    20\n",
      "e    30\n",
      "dtype: int64\n",
      "10    q\n",
      "20    w\n",
      "30    e\n",
      "dtype: object\n"
     ]
    }
   ],
   "source": [
    "l=[10,20,30]\n",
    "ind=['q','w','e']\n",
    "b=pd.Series(index=ind,data=l)\n",
    "print(b)\n",
    "b=pd.Series(index=l,data=ind)\n",
    "print(b)"
   ]
  },
  {
   "cell_type": "markdown",
   "metadata": {},
   "source": [
    "## holding functions"
   ]
  },
  {
   "cell_type": "code",
   "execution_count": 5,
   "metadata": {},
   "outputs": [
    {
     "name": "stdout",
     "output_type": "stream",
     "text": [
      "0    <built-in function sum>\n",
      "1    <built-in function max>\n",
      "2    <built-in function min>\n",
      "dtype: object\n",
      "21\n",
      "6\n",
      "1\n"
     ]
    }
   ],
   "source": [
    "f=pd.Series([sum,max,min])\n",
    "print(f)\n",
    "print(f[0]([1,2,3,4,5,6]))\n",
    "print(f[1]([1,2,3,4,5,6]))\n",
    "print(f[2]([1,2,3,4,5,6]))"
   ]
  },
  {
   "cell_type": "code",
   "execution_count": 6,
   "metadata": {},
   "outputs": [
    {
     "name": "stdout",
     "output_type": "stream",
     "text": [
      "a    1\n",
      "c    2\n",
      "e    3\n",
      "dtype: int64\n",
      "a    2\n",
      "d    4\n",
      "e    6\n",
      "k    8\n",
      "dtype: int64\n"
     ]
    },
    {
     "data": {
      "text/plain": [
       "a    3.0\n",
       "c    NaN\n",
       "d    NaN\n",
       "e    9.0\n",
       "k    NaN\n",
       "dtype: float64"
      ]
     },
     "execution_count": 6,
     "metadata": {},
     "output_type": "execute_result"
    }
   ],
   "source": [
    "se1=pd.Series([1,2,3],index=['a','c','e'])\n",
    "print(se1)\n",
    "se2=pd.Series([2,4,6,8],index=['a','d','e','k'])\n",
    "print(se2)\n",
    "se1+se2"
   ]
  },
  {
   "cell_type": "markdown",
   "metadata": {},
   "source": [
    "# 2) DataFrames"
   ]
  },
  {
   "cell_type": "code",
   "execution_count": 7,
   "metadata": {},
   "outputs": [],
   "source": [
    "pd.DataFrame?"
   ]
  },
  {
   "cell_type": "code",
   "execution_count": 8,
   "metadata": {},
   "outputs": [
    {
     "name": "stdout",
     "output_type": "stream",
     "text": [
      "          X         Y         Z\n",
      "a  0.743405  0.517943  0.125828\n",
      "b  0.214032  0.494563  0.051107\n",
      "c  0.201255  0.394541  0.952691\n",
      "d  0.443425  0.025367  0.566454\n",
      "e  0.179714  0.923638  0.672966\n",
      "<class 'pandas.core.frame.DataFrame'>\n",
      "<class 'pandas.core.series.Series'>\n",
      "<class 'numpy.float64'>\n",
      "          X         Z\n",
      "a  0.743405  0.125828\n",
      "b  0.214032  0.051107\n",
      "c  0.201255  0.952691\n",
      "d  0.443425  0.566454\n",
      "e  0.179714  0.672966\n"
     ]
    }
   ],
   "source": [
    "df=pd.DataFrame(np.random.random((5,3)),index='a b c d e'.split(),columns='X Y Z'.split())\n",
    "print(df)\n",
    "print(type(df))\n",
    "print(type(df['X']))  #indexing not similar to 2D list or array\n",
    "print(type(df['X']['a'])) #indexing not similar to 2D list or array\n",
    "#print(type(df['a']['X']))\n",
    "print(df[['X','Z']]) # select particular columns"
   ]
  },
  {
   "cell_type": "markdown",
   "metadata": {},
   "source": [
    "### Selecting a row by index or integer index"
   ]
  },
  {
   "cell_type": "code",
   "execution_count": 9,
   "metadata": {},
   "outputs": [
    {
     "name": "stdout",
     "output_type": "stream",
     "text": [
      "X    0.743405\n",
      "Y    0.517943\n",
      "Z    0.125828\n",
      "Name: a, dtype: float64\n",
      "X    0.214032\n",
      "Y    0.494563\n",
      "Z    0.051107\n",
      "Name: b, dtype: float64\n",
      "0.7434045460947805\n",
      "          X         Y\n",
      "a  0.743405  0.517943\n",
      "b  0.214032  0.494563\n"
     ]
    }
   ],
   "source": [
    "print(df.loc['a'])\n",
    "print(df.iloc[1])\n",
    "print(df.loc['a','X'])\n",
    "print(df.loc[['a','b'],['X','Y']])"
   ]
  },
  {
   "cell_type": "markdown",
   "metadata": {},
   "source": [
    "### creation of a column"
   ]
  },
  {
   "cell_type": "code",
   "execution_count": 10,
   "metadata": {},
   "outputs": [
    {
     "name": "stdout",
     "output_type": "stream",
     "text": [
      "          X         Y         Z      summ\n",
      "a  0.743405  0.517943  0.125828  1.387175\n",
      "b  0.214032  0.494563  0.051107  0.759702\n",
      "c  0.201255  0.394541  0.952691  1.548486\n",
      "d  0.443425  0.025367  0.566454  1.035246\n",
      "e  0.179714  0.923638  0.672966  1.776318\n"
     ]
    }
   ],
   "source": [
    "df['summ']=df['X']+df['Y']+df['Z']\n",
    "print(df)"
   ]
  },
  {
   "cell_type": "markdown",
   "metadata": {},
   "source": [
    "### Removal of row & column"
   ]
  },
  {
   "cell_type": "code",
   "execution_count": 11,
   "metadata": {},
   "outputs": [
    {
     "name": "stdout",
     "output_type": "stream",
     "text": [
      "          Y         Z      summ\n",
      "a  0.517943  0.125828  1.387175\n",
      "b  0.494563  0.051107  0.759702\n",
      "c  0.394541  0.952691  1.548486\n",
      "d  0.025367  0.566454  1.035246\n",
      "e  0.923638  0.672966  1.776318\n",
      "          X         Y         Z      summ\n",
      "a  0.743405  0.517943  0.125828  1.387175\n",
      "b  0.214032  0.494563  0.051107  0.759702\n",
      "c  0.201255  0.394541  0.952691  1.548486\n",
      "d  0.443425  0.025367  0.566454  1.035246\n",
      "e  0.179714  0.923638  0.672966  1.776318\n",
      "None\n",
      "          X         Y         Z      summ\n",
      "a  0.743405  0.517943  0.125828  1.387175\n",
      "b  0.214032  0.494563  0.051107  0.759702\n",
      "c  0.201255  0.394541  0.952691  1.548486\n",
      "d  0.443425  0.025367  0.566454  1.035246\n"
     ]
    }
   ],
   "source": [
    "print(df.drop('X',axis=1)) # column axis =1\n",
    "print(df)\n",
    "print(df.drop('e',axis=0,inplace= True)) # row axis =0\n",
    "print(df)"
   ]
  },
  {
   "cell_type": "markdown",
   "metadata": {},
   "source": [
    "### Conditional Selection"
   ]
  },
  {
   "cell_type": "code",
   "execution_count": 13,
   "metadata": {},
   "outputs": [
    {
     "name": "stdout",
     "output_type": "stream",
     "text": [
      "    X  Y  Z  W\n",
      "A  -9  2 -6 -5\n",
      "B  -5 -6  5 -8\n",
      "C  -6  8  9 -6\n",
      "D -10 -9 -1  1\n",
      "       X      Y      Z      W\n",
      "A  False   True  False  False\n",
      "B  False  False   True  False\n",
      "C  False   True   True  False\n",
      "D  False  False  False   True\n",
      "    X    Y    Z    W\n",
      "A NaN  2.0  NaN  NaN\n",
      "B NaN  NaN  5.0  NaN\n",
      "C NaN  8.0  9.0  NaN\n",
      "D NaN  NaN  NaN  1.0\n",
      "    X  Y  Z  W\n",
      "A  -9  2 -6 -5\n",
      "B  -5 -6  5 -8\n",
      "C  -6  8  9 -6\n",
      "D -10 -9 -1  1\n",
      "    X    Y    Z    W\n",
      "A NaN  2.0  NaN  NaN\n",
      "B NaN  NaN  5.0  NaN\n",
      "C NaN  8.0  9.0  NaN\n",
      "D NaN  NaN  NaN  1.0\n",
      "    X    Y    Z   W\n",
      "B NaN  NaN  5.0 NaN\n",
      "C NaN  8.0  9.0 NaN\n"
     ]
    }
   ],
   "source": [
    "nn=pd.DataFrame(np.random.randint(-10,10,(4,4)),index='A B C D'.split(),columns='X Y Z W'.split())\n",
    "print(nn)\n",
    "print(nn>0)\n",
    "print(nn[nn>0])\n",
    "print(nn)\n",
    "nn=nn[nn>0]\n",
    "print(nn)\n",
    "print(nn[nn['Z']>0])"
   ]
  },
  {
   "cell_type": "markdown",
   "metadata": {},
   "source": [
    "### Reset index"
   ]
  },
  {
   "cell_type": "code",
   "execution_count": 17,
   "metadata": {},
   "outputs": [
    {
     "name": "stdout",
     "output_type": "stream",
     "text": [
      "  index   X    Y    Z    W\n",
      "0     A NaN  2.0  NaN  NaN\n",
      "1     B NaN  NaN  5.0  NaN\n",
      "2     C NaN  8.0  9.0  NaN\n",
      "3     D NaN  NaN  NaN  1.0\n",
      "   level_0 index   X    Y    Z    W\n",
      "0        0     A NaN  2.0  NaN  NaN\n",
      "1        1     B NaN  NaN  5.0  NaN\n",
      "2        2     C NaN  8.0  9.0  NaN\n",
      "3        3     D NaN  NaN  NaN  1.0\n"
     ]
    }
   ],
   "source": [
    "print(nn)\n",
    "nn=nn.reset_index()\n",
    "print(nn)"
   ]
  },
  {
   "cell_type": "code",
   "execution_count": null,
   "metadata": {},
   "outputs": [],
   "source": []
  }
 ],
 "metadata": {
  "kernelspec": {
   "display_name": "Python 3",
   "language": "python",
   "name": "python3"
  },
  "language_info": {
   "codemirror_mode": {
    "name": "ipython",
    "version": 3
   },
   "file_extension": ".py",
   "mimetype": "text/x-python",
   "name": "python",
   "nbconvert_exporter": "python",
   "pygments_lexer": "ipython3",
   "version": "3.8.3"
  }
 },
 "nbformat": 4,
 "nbformat_minor": 4
}

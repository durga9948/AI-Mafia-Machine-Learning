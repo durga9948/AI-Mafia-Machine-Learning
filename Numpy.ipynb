{
 "cells": [
  {
   "cell_type": "code",
   "execution_count": 1,
   "metadata": {},
   "outputs": [],
   "source": [
    "import numpy as np"
   ]
  },
  {
   "cell_type": "markdown",
   "metadata": {},
   "source": [
    "# Basic queries on a numpy Array"
   ]
  },
  {
   "cell_type": "code",
   "execution_count": 2,
   "metadata": {},
   "outputs": [
    {
     "name": "stdout",
     "output_type": "stream",
     "text": [
      "[[['1' '1' '1' '1']\n",
      "  ['2' '2.6' '2' '2']\n",
      "  ['3' 'a' '3' '3']]\n",
      "\n",
      " [['4' '(4+2j)' '4' '4']\n",
      "  ['5' '5' '5' '5']\n",
      "  ['6' '6' '6' '6']]]\n",
      "Size is 24\n",
      "Type is <class 'numpy.ndarray'>\n",
      "Shape is (2, 3, 4)\n",
      "N dimensions 3\n",
      "Elements type <U32\n"
     ]
    }
   ],
   "source": [
    "a=np.array([[[1,1,1,1],[2,2.6,2,2],[3,'a',3,3]],[[4,4+2j,4,4],[5,5,5,5],[6,6,6,6]]])\n",
    "print(a)\n",
    "print(\"Size is\",a.size)\n",
    "print(\"Type is\",type(a))\n",
    "print(\"Shape is\",a.shape)\n",
    "print(\"N dimensions\",a.ndim)\n",
    "print(\"Elements type\",a.dtype)"
   ]
  },
  {
   "cell_type": "markdown",
   "metadata": {},
   "source": [
    "# Creation Of Array with Tuple"
   ]
  },
  {
   "cell_type": "code",
   "execution_count": 3,
   "metadata": {},
   "outputs": [
    {
     "name": "stdout",
     "output_type": "stream",
     "text": [
      "[1 2 3]\n"
     ]
    }
   ],
   "source": [
    "t=(1,2,3)\n",
    "ar=np.array(t)\n",
    "print(ar)"
   ]
  },
  {
   "cell_type": "markdown",
   "metadata": {},
   "source": [
    "# Array creation on the go"
   ]
  },
  {
   "cell_type": "code",
   "execution_count": 4,
   "metadata": {},
   "outputs": [
    {
     "name": "stdout",
     "output_type": "stream",
     "text": [
      "[[0 0 0 0]\n",
      " [0 0 0 0]\n",
      " [0 0 0 0]]\n",
      "[[1. 1. 1. 1.]\n",
      " [1. 1. 1. 1.]\n",
      " [1. 1. 1. 1.]]\n",
      "[[1. 0. 0.]\n",
      " [0. 1. 0.]\n",
      " [0. 0. 1.]]\n"
     ]
    },
    {
     "data": {
      "text/plain": [
       "array([[0.24182137, 0.12837512, 0.68509286],\n",
       "       [0.33709047, 0.16757063, 0.43530164]])"
      ]
     },
     "execution_count": 4,
     "metadata": {},
     "output_type": "execute_result"
    }
   ],
   "source": [
    "print(np.zeros((3,4),dtype=int))\n",
    "print(np.ones((3,4)))\n",
    "print(np.eye(3))\n",
    "np.random.random((2,3)) #generates [0-1)"
   ]
  },
  {
   "cell_type": "markdown",
   "metadata": {},
   "source": [
    "# 1D array creation"
   ]
  },
  {
   "cell_type": "code",
   "execution_count": 5,
   "metadata": {},
   "outputs": [
    {
     "name": "stdout",
     "output_type": "stream",
     "text": [
      "[ 0  2  4  6  8 10 12 14 16 18]\n",
      "[18 16 14 12 10  8  6  4  2  0]\n",
      "[ 0.          2.22222222  4.44444444  6.66666667  8.88888889 11.11111111\n",
      " 13.33333333 15.55555556 17.77777778 20.        ]\n"
     ]
    }
   ],
   "source": [
    "print(np.arange(0,20,2))\n",
    "print(np.arange(18,-2,-2))\n",
    "print(np.linspace(0,20,10)) # last argument indicates no of values to be printed with equal division of the inclusive interval"
   ]
  },
  {
   "cell_type": "markdown",
   "metadata": {},
   "source": [
    "# Reshaping of the array"
   ]
  },
  {
   "cell_type": "code",
   "execution_count": 6,
   "metadata": {},
   "outputs": [
    {
     "name": "stdout",
     "output_type": "stream",
     "text": [
      "[[[ 1  2  3]\n",
      "  [ 4  5  6]]\n",
      "\n",
      " [[ 7  8  9]\n",
      "  [10 11 12]]]\n",
      "[ 1  2  3  4  5  6  7  8  9 10 11 12]\n",
      "[[ 1  2  3  4]\n",
      " [ 5  6  7  8]\n",
      " [ 9 10 11 12]]\n"
     ]
    }
   ],
   "source": [
    "re=np.array([[1,2,3,4],[5,6,7,8],[9,10,11,12]])\n",
    "print(re.reshape((2,2,3)))\n",
    "print(re.flatten())\n",
    "print(re)"
   ]
  },
  {
   "cell_type": "markdown",
   "metadata": {},
   "source": [
    "# Slicing of the numpy array"
   ]
  },
  {
   "cell_type": "code",
   "execution_count": 7,
   "metadata": {},
   "outputs": [
    {
     "name": "stdout",
     "output_type": "stream",
     "text": [
      "[[ 7  8]\n",
      " [11 12]\n",
      " [15 16]]\n",
      "[[ 5  7]\n",
      " [ 9 11]\n",
      " [13 15]]\n",
      "[[ 1  2  3  4]\n",
      " [ 5  6  7  8]\n",
      " [ 9 10 11 12]\n",
      " [13 14 15 16]]\n"
     ]
    }
   ],
   "source": [
    "slicing=np.array([[ 1,  2,  3,  4],\n",
    "         [ 5,  6,  7,  8],\n",
    "         [ 9, 10, 11, 12],\n",
    "         [13,14,15,16]])\n",
    "print(slicing[1: , 2:4])\n",
    "print(slicing[1: , :4:2]) #Step size is mentioned  s[startRow:endRow+1:rowStep or incremental ,startcoloumn:endcoloumn+1:coloumnStep or incremental]\n",
    "print(slicing)"
   ]
  },
  {
   "cell_type": "markdown",
   "metadata": {},
   "source": [
    "# conditional indexing"
   ]
  },
  {
   "cell_type": "code",
   "execution_count": 8,
   "metadata": {},
   "outputs": [
    {
     "name": "stdout",
     "output_type": "stream",
     "text": [
      "[[  1  -2  -3   4]\n",
      " [ -5   6  -7  -8]\n",
      " [  9  10  11 -12]\n",
      " [ 13 -14 -15  16]]\n",
      "[ 1  4  6  9 10 11 13 16]\n"
     ]
    }
   ],
   "source": [
    "conditional=np.array([[ 1,  -2,  -3,  4],\n",
    "         [ -5,  6,  -7,  -8],\n",
    "         [ 9, 10, 11, -12],\n",
    "         [13,-14,-15,16]])\n",
    "print(conditional)\n",
    "cond=conditional>0\n",
    "conditional=conditional[cond]\n",
    "print(conditional)"
   ]
  },
  {
   "cell_type": "markdown",
   "metadata": {},
   "source": [
    "# Broadcasting"
   ]
  },
  {
   "cell_type": "code",
   "execution_count": 9,
   "metadata": {},
   "outputs": [
    {
     "name": "stdout",
     "output_type": "stream",
     "text": [
      "[[ 2  3  4 15]\n",
      " [ 6  7  8 19]\n",
      " [10 11 12 13]]\n",
      "[[ 0  1  2 13]\n",
      " [ 4  5  6 17]\n",
      " [ 8  9 10 11]]\n",
      "[[ 2  4  6 28]\n",
      " [10 12 14 36]\n",
      " [18 20 22 24]]\n",
      "[[ 1  5  9]\n",
      " [ 2  6 10]\n",
      " [ 3  7 11]\n",
      " [14 18 12]]\n",
      "18\n",
      "[14 18 12]\n",
      "[ 9 10 11 18]\n",
      "98\n",
      "[15 18 21 44]\n",
      "[[ 1  3  6 20]\n",
      " [ 5 11 18 36]\n",
      " [ 9 19 30 42]]\n"
     ]
    }
   ],
   "source": [
    "a=np.array([[1,2,3,14],[5,6,7,18],[9,10,11,12]])\n",
    "print(a+1)\n",
    "print(a-1)\n",
    "print(a*2)\n",
    "print(a.T)\n",
    "print(a.max())\n",
    "print(a.max(axis=1))#row wise\n",
    "print(a.max(axis=0))#coloumn wise\n",
    "# similarly min\n",
    "print(a.sum())\n",
    "print(a.sum(axis=0)) # coloumn wise\n",
    "print(a.cumsum(axis=1)) # row wise"
   ]
  },
  {
   "cell_type": "markdown",
   "metadata": {},
   "source": [
    "# Operations on matrices"
   ]
  },
  {
   "cell_type": "code",
   "execution_count": 10,
   "metadata": {},
   "outputs": [
    {
     "name": "stdout",
     "output_type": "stream",
     "text": [
      "[[ 6  8]\n",
      " [10 12]]\n",
      "[[ 5 12]\n",
      " [21 32]]\n",
      "[[19 22]\n",
      " [43 50]]\n"
     ]
    }
   ],
   "source": [
    "a=np.array([[1,2],[3,4]])\n",
    "b=np.array([[5,6],[7,8]])\n",
    "print(a+b)\n",
    "print(a*b) #cartisian product\n",
    "print(a.dot(b))"
   ]
  },
  {
   "cell_type": "markdown",
   "metadata": {},
   "source": [
    "# Universal Functions"
   ]
  },
  {
   "cell_type": "code",
   "execution_count": 11,
   "metadata": {},
   "outputs": [
    {
     "name": "stdout",
     "output_type": "stream",
     "text": [
      "[0.0000000e+00 1.0000000e+00 1.2246468e-16]\n",
      "[ 1.          4.81047738 23.14069263]\n",
      "[ 1.000000e+00  6.123234e-17 -1.000000e+00]\n",
      "[1.         1.41421356 1.73205081 2.        ]\n"
     ]
    }
   ],
   "source": [
    "a=np.array([0,np.pi/2,np.pi])\n",
    "print(np.sin(a))\n",
    "print(np.exp(a))\n",
    "print(np.cos(a))\n",
    "a=np.array([1,2,3,4])\n",
    "print(np.sqrt(a))"
   ]
  },
  {
   "cell_type": "markdown",
   "metadata": {},
   "source": [
    "# Sorting"
   ]
  },
  {
   "cell_type": "code",
   "execution_count": 12,
   "metadata": {},
   "outputs": [
    {
     "name": "stdout",
     "output_type": "stream",
     "text": [
      "[[ 3  4  7  9]\n",
      " [ 2  4  5  8]\n",
      " [ 1  6 32 85]]\n",
      "[[ 6  1  5  3]\n",
      " [ 8  2  7  4]\n",
      " [ 9  4 85 32]]\n",
      "[[ 3  4  7  9]\n",
      " [ 2  4  5  8]\n",
      " [ 1  6 32 85]]\n",
      "[ 1  2  3  4  4  5  6  7  8  9 32 85]\n"
     ]
    }
   ],
   "source": [
    "a=np.array([[9,4,7,3],[8,2,5,4],[6,1,85,32]])\n",
    "print(np.sort(a))\n",
    "print(np.sort(a,axis=0)) # coloumn wise sort\n",
    "print(np.sort(a,axis=1)) #row wise sort\n",
    "print(np.sort(a,axis=None,kind='mergesort')) # sort entire nd flatten"
   ]
  },
  {
   "cell_type": "markdown",
   "metadata": {},
   "source": [
    "# Stacking"
   ]
  },
  {
   "cell_type": "code",
   "execution_count": 13,
   "metadata": {},
   "outputs": [
    {
     "name": "stdout",
     "output_type": "stream",
     "text": [
      "[[1 2]\n",
      " [3 4]\n",
      " [5 6]\n",
      " [7 8]]\n",
      "[[1 2 5 6]\n",
      " [3 4 7 8]]\n",
      "[[ 1  2 10]\n",
      " [ 3  4 20]]\n",
      "[[1 2 5 6]\n",
      " [3 4 7 8]]\n"
     ]
    }
   ],
   "source": [
    "a=[[1,2],[3,4]]\n",
    "b=[[5,6],[7,8]]\n",
    "print(np.vstack((a,b)))\n",
    "print(np.hstack((a,b)))\n",
    "c=[10,20]\n",
    "print(np.column_stack((a,c)))\n",
    "print(np.concatenate((a,b),1))"
   ]
  },
  {
   "cell_type": "markdown",
   "metadata": {},
   "source": [
    "# Splitting"
   ]
  },
  {
   "cell_type": "code",
   "execution_count": 14,
   "metadata": {},
   "outputs": [
    {
     "name": "stdout",
     "output_type": "stream",
     "text": [
      "[array([[1, 2],\n",
      "       [2, 4]]), array([[3, 4],\n",
      "       [6, 8]]), array([[ 5,  6],\n",
      "       [10, 12]])]\n",
      "[array([[1, 2, 3, 4, 5, 6]]), array([[ 2,  4,  6,  8, 10, 12]])]\n"
     ]
    }
   ],
   "source": [
    "a=np.array([[1,2,3,4,5,6],[2,4,6,8,10,12]])\n",
    "print(np.hsplit(a,3))\n",
    "print(np.vsplit(a,2))"
   ]
  },
  {
   "cell_type": "markdown",
   "metadata": {},
   "source": [
    "# Statistical Functions"
   ]
  },
  {
   "cell_type": "code",
   "execution_count": 15,
   "metadata": {},
   "outputs": [
    {
     "name": "stdout",
     "output_type": "stream",
     "text": [
      "1\n",
      "[1 1 1]\n",
      "[1 3 1 5 3 1]\n"
     ]
    }
   ],
   "source": [
    "a=np.array([[1,3,1,5,5,6],[3,5,1,5,8,4],[2,5,8,9,3,1]])\n",
    "# Min or Max\n",
    "print(np.min(a))\n",
    "print(np.min(a,axis=1))\n",
    "print(np.min(a,axis=0))"
   ]
  },
  {
   "cell_type": "markdown",
   "metadata": {},
   "source": [
    "### Mean"
   ]
  },
  {
   "cell_type": "code",
   "execution_count": 16,
   "metadata": {},
   "outputs": [
    {
     "name": "stdout",
     "output_type": "stream",
     "text": [
      "4.166666666666667\n",
      "[3.5        4.33333333 4.66666667]\n",
      "[2.         4.33333333 3.33333333 6.33333333 5.33333333 3.66666667]\n"
     ]
    }
   ],
   "source": [
    "print(np.mean(a))\n",
    "print(np.mean(a,axis=1))\n",
    "print(np.mean(a,axis=0))"
   ]
  },
  {
   "cell_type": "markdown",
   "metadata": {},
   "source": [
    "### Median"
   ]
  },
  {
   "cell_type": "code",
   "execution_count": 17,
   "metadata": {},
   "outputs": [
    {
     "name": "stdout",
     "output_type": "stream",
     "text": [
      "[1 1 1 1 2 3 3 3 4 5 5 5 5 5 6 8 8 9]\n",
      "4.5\n",
      "[[1 3 1 5 5 6]\n",
      " [3 5 1 5 8 4]\n",
      " [2 5 8 9 3 1]]\n",
      "[4.  4.5 4. ]\n",
      "[2. 5. 1. 5. 5. 4.]\n"
     ]
    }
   ],
   "source": [
    "print(np.sort(a,axis=None))\n",
    "print(np.median(a))\n",
    "print(a)\n",
    "print(np.median(a,axis=1))\n",
    "print(np.median(a,axis=0))"
   ]
  },
  {
   "cell_type": "markdown",
   "metadata": {},
   "source": [
    "### weighted average"
   ]
  },
  {
   "cell_type": "code",
   "execution_count": 18,
   "metadata": {},
   "outputs": [
    {
     "name": "stdout",
     "output_type": "stream",
     "text": [
      "4.166666666666667\n"
     ]
    }
   ],
   "source": [
    "w=np.ones((3,6))\n",
    "print(np.average(a,weights=w))"
   ]
  },
  {
   "cell_type": "markdown",
   "metadata": {},
   "source": [
    "### Standard Deviation and varience"
   ]
  },
  {
   "cell_type": "code",
   "execution_count": 19,
   "metadata": {},
   "outputs": [
    {
     "name": "stdout",
     "output_type": "stream",
     "text": [
      "2.455153310442706\n",
      "2.455153310442706\n",
      "6.027777777777778\n",
      "6.027777777777778\n"
     ]
    }
   ],
   "source": [
    "m=np.mean(a)\n",
    "dev=np.sqrt(np.mean(abs(a-m)**2))\n",
    "print(dev)\n",
    "print(np.std(a))\n",
    "v=dev**2\n",
    "print(v)\n",
    "print(np.var(a))"
   ]
  },
  {
   "cell_type": "markdown",
   "metadata": {},
   "source": [
    "# Random"
   ]
  },
  {
   "cell_type": "code",
   "execution_count": 20,
   "metadata": {},
   "outputs": [
    {
     "name": "stdout",
     "output_type": "stream",
     "text": [
      "0.35872973194921665\n",
      "[[ 4 71 56]\n",
      " [70 61 43]\n",
      " [60 36 86]]\n",
      "[[0.88465803 0.17041082 0.57484309]\n",
      " [0.42240133 0.15127115 0.57661975]\n",
      " [0.33982545 0.55110775 0.22691666]\n",
      " [0.96585492 0.40494821 0.82027045]\n",
      " [0.67415935 0.15664837 0.91093887]]\n",
      "[2 6 6]\n",
      "None\n",
      "0.771320643266746\n",
      "None\n",
      "0.771320643266746\n"
     ]
    },
    {
     "data": {
      "text/plain": [
       "array([2, 6, 8, 5, 7, 9, 3, 1, 0, 4])"
      ]
     },
     "execution_count": 20,
     "metadata": {},
     "output_type": "execute_result"
    }
   ],
   "source": [
    "print(np.random.random()) #Random value in between [0,1)\n",
    "print(np.random.randint(1,100,(3,3))) #Random value in between [1,100)\n",
    "print(np.random.rand(5,3)) # Generates array of size 5,3\n",
    "print(np.random.choice([2,6,8,10],3))\n",
    "#print(np.random.randrange(4,100,5)) #generates any number with 4+5*i in between 4 to 99\n",
    "print(np.random.seed(10))\n",
    "print(np.random.random())\n",
    "print(np.random.seed(10))\n",
    "print(np.random.random()) #got same random value\n",
    "arr = np.arange(10)\n",
    "np.random.shuffle(arr)\n",
    "arr"
   ]
  }
 ],
 "metadata": {
  "kernelspec": {
   "display_name": "Python 3",
   "language": "python",
   "name": "python3"
  },
  "language_info": {
   "codemirror_mode": {
    "name": "ipython",
    "version": 3
   },
   "file_extension": ".py",
   "mimetype": "text/x-python",
   "name": "python",
   "nbconvert_exporter": "python",
   "pygments_lexer": "ipython3",
   "version": "3.8.3"
  }
 },
 "nbformat": 4,
 "nbformat_minor": 4
}
